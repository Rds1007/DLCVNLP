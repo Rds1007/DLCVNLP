{
 "cells": [
  {
   "cell_type": "code",
   "execution_count": 3,
   "metadata": {},
   "outputs": [],
   "source": [
    "import pandas as pd\n",
    "import numpy as np\n",
    "import matplotlib.pyplot as plt\n",
    "%matplotlib inline\n",
    "import seaborn as sn"
   ]
  },
  {
   "cell_type": "code",
   "execution_count": 4,
   "metadata": {},
   "outputs": [],
   "source": [
    "df= pd.read_csv(r\"C:\\Users\\Ramdhan\\Desktop\\DLCVNLP\\TensorFlow\\Home Work\\Salary_Forcast\\adult.data\",sep=',',\n",
    "                 names=['age','workclass','fnlwgt','education','education-num','marital-status','occupation','relationship','race','sex','capital-gain','capital-loss','hours-per-week','native-country','salary'])"
   ]
  },
  {
   "cell_type": "code",
   "execution_count": 5,
   "metadata": {},
   "outputs": [],
   "source": [
    "X=df.drop('salary',axis=\"columns\")\n",
    "X_cat = X.select_dtypes(include=[object])\n",
    "X_noncatc = X.select_dtypes(exclude=[object])"
   ]
  },
  {
   "cell_type": "code",
   "execution_count": 6,
   "metadata": {},
   "outputs": [],
   "source": [
    "#Applying One Hot Encoding \n",
    "from sklearn.preprocessing import OneHotEncoder\n",
    "\n",
    "ohe = OneHotEncoder(sparse=False, handle_unknown=\"ignore\")\n",
    "df_processed_np = ohe.fit_transform(X_cat)"
   ]
  },
  {
   "cell_type": "code",
   "execution_count": 7,
   "metadata": {},
   "outputs": [],
   "source": [
    "x = pd.concat([X_noncatc,pd.DataFrame(df_processed_np)],axis=1,ignore_index=True)"
   ]
  },
  {
   "cell_type": "code",
   "execution_count": 8,
   "metadata": {},
   "outputs": [
    {
     "data": {
      "text/plain": [
       "age               0\n",
       "workclass         0\n",
       "fnlwgt            0\n",
       "education         0\n",
       "education-num     0\n",
       "marital-status    0\n",
       "occupation        0\n",
       "relationship      0\n",
       "race              0\n",
       "sex               0\n",
       "capital-gain      0\n",
       "capital-loss      0\n",
       "hours-per-week    0\n",
       "native-country    0\n",
       "salary            0\n",
       "dtype: int64"
      ]
     },
     "execution_count": 8,
     "metadata": {},
     "output_type": "execute_result"
    }
   ],
   "source": [
    "#Null Values Check \n",
    "df.isna().sum()"
   ]
  },
  {
   "cell_type": "code",
   "execution_count": 9,
   "metadata": {},
   "outputs": [
    {
     "data": {
      "text/plain": [
       "age                int64\n",
       "workclass         object\n",
       "fnlwgt             int64\n",
       "education         object\n",
       "education-num      int64\n",
       "marital-status    object\n",
       "occupation        object\n",
       "relationship      object\n",
       "race              object\n",
       "sex               object\n",
       "capital-gain       int64\n",
       "capital-loss       int64\n",
       "hours-per-week     int64\n",
       "native-country    object\n",
       "salary            object\n",
       "dtype: object"
      ]
     },
     "execution_count": 9,
     "metadata": {},
     "output_type": "execute_result"
    }
   ],
   "source": [
    "df.dtypes"
   ]
  },
  {
   "cell_type": "code",
   "execution_count": 10,
   "metadata": {},
   "outputs": [
    {
     "data": {
      "text/plain": [
       "array([' United-States', ' Cuba', ' Jamaica', ' India', ' ?', ' Mexico',\n",
       "       ' South', ' Puerto-Rico', ' Honduras', ' England', ' Canada',\n",
       "       ' Germany', ' Iran', ' Philippines', ' Italy', ' Poland',\n",
       "       ' Columbia', ' Cambodia', ' Thailand', ' Ecuador', ' Laos',\n",
       "       ' Taiwan', ' Haiti', ' Portugal', ' Dominican-Republic',\n",
       "       ' El-Salvador', ' France', ' Guatemala', ' China', ' Japan',\n",
       "       ' Yugoslavia', ' Peru', ' Outlying-US(Guam-USVI-etc)', ' Scotland',\n",
       "       ' Trinadad&Tobago', ' Greece', ' Nicaragua', ' Vietnam', ' Hong',\n",
       "       ' Ireland', ' Hungary', ' Holand-Netherlands'], dtype=object)"
      ]
     },
     "execution_count": 10,
     "metadata": {},
     "output_type": "execute_result"
    }
   ],
   "source": [
    "df['native-country'].unique()"
   ]
  },
  {
   "cell_type": "code",
   "execution_count": 11,
   "metadata": {},
   "outputs": [],
   "source": [
    "# demonstrate data normalization with sklearn\n",
    "from sklearn.preprocessing import MinMaxScaler\n",
    "# load data\n",
    "data = x\n",
    "# create scaler\n",
    "scaler = MinMaxScaler()\n",
    "# fit and transform in one step\n",
    "normalized = scaler.fit_transform(data)\n",
    "# inverse transform\n",
    "#inverse = scaler.inverse_transform(normalized)"
   ]
  },
  {
   "cell_type": "code",
   "execution_count": 12,
   "metadata": {},
   "outputs": [],
   "source": [
    "df['salary'] = np.where(df['salary']==' <=50K',0,1)"
   ]
  },
  {
   "cell_type": "code",
   "execution_count": 13,
   "metadata": {},
   "outputs": [],
   "source": [
    "y=df['salary']"
   ]
  },
  {
   "cell_type": "code",
   "execution_count": 14,
   "metadata": {},
   "outputs": [],
   "source": [
    "#Applying Label Encoding\n",
    "#from sklearn.preprocessing import LabelEncoder\n",
    "#le=LabelEncoder()\n",
    "#X.loc[:,['workclass','education','marital-status','occupation','relationship','race','sex','native-country']]=\\\n",
    "#X.loc[:,['workclass','education','marital-status','occupation','relationship','race','sex','native-country']].apply(le.fit_transform)\n"
   ]
  },
  {
   "cell_type": "code",
   "execution_count": 15,
   "metadata": {},
   "outputs": [],
   "source": [
    "cat_columns =[]\n",
    "for i in X.columns:\n",
    "    if (type(X[i][0]) is str):\n",
    "        cat_columns.append(i)\n",
    "        rest_df =df.drop\n",
    "cat_columns_idx = [X.columns.get_loc(col) for col in cat_columns]"
   ]
  },
  {
   "cell_type": "code",
   "execution_count": 16,
   "metadata": {},
   "outputs": [
    {
     "data": {
      "text/plain": [
       "[1, 3, 5, 6, 7, 8, 9, 13]"
      ]
     },
     "execution_count": 16,
     "metadata": {},
     "output_type": "execute_result"
    }
   ],
   "source": [
    "cat_columns_idx"
   ]
  },
  {
   "cell_type": "code",
   "execution_count": 10,
   "metadata": {},
   "outputs": [],
   "source": [
    "#X = pd.get_dummies(data=X, columns=['workclass','education','marital-status','occupation','relationship','race','sex','native-country'])"
   ]
  },
  {
   "cell_type": "code",
   "execution_count": 18,
   "metadata": {},
   "outputs": [
    {
     "data": {
      "text/html": [
       "<div>\n",
       "<style scoped>\n",
       "    .dataframe tbody tr th:only-of-type {\n",
       "        vertical-align: middle;\n",
       "    }\n",
       "\n",
       "    .dataframe tbody tr th {\n",
       "        vertical-align: top;\n",
       "    }\n",
       "\n",
       "    .dataframe thead th {\n",
       "        text-align: right;\n",
       "    }\n",
       "</style>\n",
       "<table border=\"1\" class=\"dataframe\">\n",
       "  <thead>\n",
       "    <tr style=\"text-align: right;\">\n",
       "      <th></th>\n",
       "      <th>0</th>\n",
       "      <th>1</th>\n",
       "      <th>2</th>\n",
       "      <th>3</th>\n",
       "      <th>4</th>\n",
       "      <th>5</th>\n",
       "      <th>6</th>\n",
       "      <th>7</th>\n",
       "      <th>8</th>\n",
       "      <th>9</th>\n",
       "      <th>...</th>\n",
       "      <th>98</th>\n",
       "      <th>99</th>\n",
       "      <th>100</th>\n",
       "      <th>101</th>\n",
       "      <th>102</th>\n",
       "      <th>103</th>\n",
       "      <th>104</th>\n",
       "      <th>105</th>\n",
       "      <th>106</th>\n",
       "      <th>107</th>\n",
       "    </tr>\n",
       "  </thead>\n",
       "  <tbody>\n",
       "    <tr>\n",
       "      <th>0</th>\n",
       "      <td>0.301370</td>\n",
       "      <td>0.044302</td>\n",
       "      <td>0.800000</td>\n",
       "      <td>0.021740</td>\n",
       "      <td>0.0</td>\n",
       "      <td>0.397959</td>\n",
       "      <td>0.0</td>\n",
       "      <td>0.0</td>\n",
       "      <td>0.0</td>\n",
       "      <td>0.0</td>\n",
       "      <td>...</td>\n",
       "      <td>0.0</td>\n",
       "      <td>0.0</td>\n",
       "      <td>0.0</td>\n",
       "      <td>0.0</td>\n",
       "      <td>0.0</td>\n",
       "      <td>0.0</td>\n",
       "      <td>0.0</td>\n",
       "      <td>1.0</td>\n",
       "      <td>0.0</td>\n",
       "      <td>0.0</td>\n",
       "    </tr>\n",
       "    <tr>\n",
       "      <th>1</th>\n",
       "      <td>0.452055</td>\n",
       "      <td>0.048238</td>\n",
       "      <td>0.800000</td>\n",
       "      <td>0.000000</td>\n",
       "      <td>0.0</td>\n",
       "      <td>0.122449</td>\n",
       "      <td>0.0</td>\n",
       "      <td>0.0</td>\n",
       "      <td>0.0</td>\n",
       "      <td>0.0</td>\n",
       "      <td>...</td>\n",
       "      <td>0.0</td>\n",
       "      <td>0.0</td>\n",
       "      <td>0.0</td>\n",
       "      <td>0.0</td>\n",
       "      <td>0.0</td>\n",
       "      <td>0.0</td>\n",
       "      <td>0.0</td>\n",
       "      <td>1.0</td>\n",
       "      <td>0.0</td>\n",
       "      <td>0.0</td>\n",
       "    </tr>\n",
       "    <tr>\n",
       "      <th>2</th>\n",
       "      <td>0.287671</td>\n",
       "      <td>0.138113</td>\n",
       "      <td>0.533333</td>\n",
       "      <td>0.000000</td>\n",
       "      <td>0.0</td>\n",
       "      <td>0.397959</td>\n",
       "      <td>0.0</td>\n",
       "      <td>0.0</td>\n",
       "      <td>0.0</td>\n",
       "      <td>0.0</td>\n",
       "      <td>...</td>\n",
       "      <td>0.0</td>\n",
       "      <td>0.0</td>\n",
       "      <td>0.0</td>\n",
       "      <td>0.0</td>\n",
       "      <td>0.0</td>\n",
       "      <td>0.0</td>\n",
       "      <td>0.0</td>\n",
       "      <td>1.0</td>\n",
       "      <td>0.0</td>\n",
       "      <td>0.0</td>\n",
       "    </tr>\n",
       "    <tr>\n",
       "      <th>3</th>\n",
       "      <td>0.493151</td>\n",
       "      <td>0.151068</td>\n",
       "      <td>0.400000</td>\n",
       "      <td>0.000000</td>\n",
       "      <td>0.0</td>\n",
       "      <td>0.397959</td>\n",
       "      <td>0.0</td>\n",
       "      <td>0.0</td>\n",
       "      <td>0.0</td>\n",
       "      <td>0.0</td>\n",
       "      <td>...</td>\n",
       "      <td>0.0</td>\n",
       "      <td>0.0</td>\n",
       "      <td>0.0</td>\n",
       "      <td>0.0</td>\n",
       "      <td>0.0</td>\n",
       "      <td>0.0</td>\n",
       "      <td>0.0</td>\n",
       "      <td>1.0</td>\n",
       "      <td>0.0</td>\n",
       "      <td>0.0</td>\n",
       "    </tr>\n",
       "    <tr>\n",
       "      <th>4</th>\n",
       "      <td>0.150685</td>\n",
       "      <td>0.221488</td>\n",
       "      <td>0.800000</td>\n",
       "      <td>0.000000</td>\n",
       "      <td>0.0</td>\n",
       "      <td>0.397959</td>\n",
       "      <td>0.0</td>\n",
       "      <td>0.0</td>\n",
       "      <td>0.0</td>\n",
       "      <td>0.0</td>\n",
       "      <td>...</td>\n",
       "      <td>0.0</td>\n",
       "      <td>0.0</td>\n",
       "      <td>0.0</td>\n",
       "      <td>0.0</td>\n",
       "      <td>0.0</td>\n",
       "      <td>0.0</td>\n",
       "      <td>0.0</td>\n",
       "      <td>0.0</td>\n",
       "      <td>0.0</td>\n",
       "      <td>0.0</td>\n",
       "    </tr>\n",
       "    <tr>\n",
       "      <th>...</th>\n",
       "      <td>...</td>\n",
       "      <td>...</td>\n",
       "      <td>...</td>\n",
       "      <td>...</td>\n",
       "      <td>...</td>\n",
       "      <td>...</td>\n",
       "      <td>...</td>\n",
       "      <td>...</td>\n",
       "      <td>...</td>\n",
       "      <td>...</td>\n",
       "      <td>...</td>\n",
       "      <td>...</td>\n",
       "      <td>...</td>\n",
       "      <td>...</td>\n",
       "      <td>...</td>\n",
       "      <td>...</td>\n",
       "      <td>...</td>\n",
       "      <td>...</td>\n",
       "      <td>...</td>\n",
       "      <td>...</td>\n",
       "      <td>...</td>\n",
       "    </tr>\n",
       "    <tr>\n",
       "      <th>32556</th>\n",
       "      <td>0.136986</td>\n",
       "      <td>0.166404</td>\n",
       "      <td>0.733333</td>\n",
       "      <td>0.000000</td>\n",
       "      <td>0.0</td>\n",
       "      <td>0.377551</td>\n",
       "      <td>0.0</td>\n",
       "      <td>0.0</td>\n",
       "      <td>0.0</td>\n",
       "      <td>0.0</td>\n",
       "      <td>...</td>\n",
       "      <td>0.0</td>\n",
       "      <td>0.0</td>\n",
       "      <td>0.0</td>\n",
       "      <td>0.0</td>\n",
       "      <td>0.0</td>\n",
       "      <td>0.0</td>\n",
       "      <td>0.0</td>\n",
       "      <td>1.0</td>\n",
       "      <td>0.0</td>\n",
       "      <td>0.0</td>\n",
       "    </tr>\n",
       "    <tr>\n",
       "      <th>32557</th>\n",
       "      <td>0.315068</td>\n",
       "      <td>0.096500</td>\n",
       "      <td>0.533333</td>\n",
       "      <td>0.000000</td>\n",
       "      <td>0.0</td>\n",
       "      <td>0.397959</td>\n",
       "      <td>0.0</td>\n",
       "      <td>0.0</td>\n",
       "      <td>0.0</td>\n",
       "      <td>0.0</td>\n",
       "      <td>...</td>\n",
       "      <td>0.0</td>\n",
       "      <td>0.0</td>\n",
       "      <td>0.0</td>\n",
       "      <td>0.0</td>\n",
       "      <td>0.0</td>\n",
       "      <td>0.0</td>\n",
       "      <td>0.0</td>\n",
       "      <td>1.0</td>\n",
       "      <td>0.0</td>\n",
       "      <td>0.0</td>\n",
       "    </tr>\n",
       "    <tr>\n",
       "      <th>32558</th>\n",
       "      <td>0.561644</td>\n",
       "      <td>0.094827</td>\n",
       "      <td>0.533333</td>\n",
       "      <td>0.000000</td>\n",
       "      <td>0.0</td>\n",
       "      <td>0.397959</td>\n",
       "      <td>0.0</td>\n",
       "      <td>0.0</td>\n",
       "      <td>0.0</td>\n",
       "      <td>0.0</td>\n",
       "      <td>...</td>\n",
       "      <td>0.0</td>\n",
       "      <td>0.0</td>\n",
       "      <td>0.0</td>\n",
       "      <td>0.0</td>\n",
       "      <td>0.0</td>\n",
       "      <td>0.0</td>\n",
       "      <td>0.0</td>\n",
       "      <td>1.0</td>\n",
       "      <td>0.0</td>\n",
       "      <td>0.0</td>\n",
       "    </tr>\n",
       "    <tr>\n",
       "      <th>32559</th>\n",
       "      <td>0.068493</td>\n",
       "      <td>0.128499</td>\n",
       "      <td>0.533333</td>\n",
       "      <td>0.000000</td>\n",
       "      <td>0.0</td>\n",
       "      <td>0.193878</td>\n",
       "      <td>0.0</td>\n",
       "      <td>0.0</td>\n",
       "      <td>0.0</td>\n",
       "      <td>0.0</td>\n",
       "      <td>...</td>\n",
       "      <td>0.0</td>\n",
       "      <td>0.0</td>\n",
       "      <td>0.0</td>\n",
       "      <td>0.0</td>\n",
       "      <td>0.0</td>\n",
       "      <td>0.0</td>\n",
       "      <td>0.0</td>\n",
       "      <td>1.0</td>\n",
       "      <td>0.0</td>\n",
       "      <td>0.0</td>\n",
       "    </tr>\n",
       "    <tr>\n",
       "      <th>32560</th>\n",
       "      <td>0.479452</td>\n",
       "      <td>0.187203</td>\n",
       "      <td>0.533333</td>\n",
       "      <td>0.150242</td>\n",
       "      <td>0.0</td>\n",
       "      <td>0.397959</td>\n",
       "      <td>0.0</td>\n",
       "      <td>0.0</td>\n",
       "      <td>0.0</td>\n",
       "      <td>0.0</td>\n",
       "      <td>...</td>\n",
       "      <td>0.0</td>\n",
       "      <td>0.0</td>\n",
       "      <td>0.0</td>\n",
       "      <td>0.0</td>\n",
       "      <td>0.0</td>\n",
       "      <td>0.0</td>\n",
       "      <td>0.0</td>\n",
       "      <td>1.0</td>\n",
       "      <td>0.0</td>\n",
       "      <td>0.0</td>\n",
       "    </tr>\n",
       "  </tbody>\n",
       "</table>\n",
       "<p>32561 rows × 108 columns</p>\n",
       "</div>"
      ],
      "text/plain": [
       "            0         1         2         3    4         5    6    7    8    \\\n",
       "0      0.301370  0.044302  0.800000  0.021740  0.0  0.397959  0.0  0.0  0.0   \n",
       "1      0.452055  0.048238  0.800000  0.000000  0.0  0.122449  0.0  0.0  0.0   \n",
       "2      0.287671  0.138113  0.533333  0.000000  0.0  0.397959  0.0  0.0  0.0   \n",
       "3      0.493151  0.151068  0.400000  0.000000  0.0  0.397959  0.0  0.0  0.0   \n",
       "4      0.150685  0.221488  0.800000  0.000000  0.0  0.397959  0.0  0.0  0.0   \n",
       "...         ...       ...       ...       ...  ...       ...  ...  ...  ...   \n",
       "32556  0.136986  0.166404  0.733333  0.000000  0.0  0.377551  0.0  0.0  0.0   \n",
       "32557  0.315068  0.096500  0.533333  0.000000  0.0  0.397959  0.0  0.0  0.0   \n",
       "32558  0.561644  0.094827  0.533333  0.000000  0.0  0.397959  0.0  0.0  0.0   \n",
       "32559  0.068493  0.128499  0.533333  0.000000  0.0  0.193878  0.0  0.0  0.0   \n",
       "32560  0.479452  0.187203  0.533333  0.150242  0.0  0.397959  0.0  0.0  0.0   \n",
       "\n",
       "       9    ...  98   99   100  101  102  103  104  105  106  107  \n",
       "0      0.0  ...  0.0  0.0  0.0  0.0  0.0  0.0  0.0  1.0  0.0  0.0  \n",
       "1      0.0  ...  0.0  0.0  0.0  0.0  0.0  0.0  0.0  1.0  0.0  0.0  \n",
       "2      0.0  ...  0.0  0.0  0.0  0.0  0.0  0.0  0.0  1.0  0.0  0.0  \n",
       "3      0.0  ...  0.0  0.0  0.0  0.0  0.0  0.0  0.0  1.0  0.0  0.0  \n",
       "4      0.0  ...  0.0  0.0  0.0  0.0  0.0  0.0  0.0  0.0  0.0  0.0  \n",
       "...    ...  ...  ...  ...  ...  ...  ...  ...  ...  ...  ...  ...  \n",
       "32556  0.0  ...  0.0  0.0  0.0  0.0  0.0  0.0  0.0  1.0  0.0  0.0  \n",
       "32557  0.0  ...  0.0  0.0  0.0  0.0  0.0  0.0  0.0  1.0  0.0  0.0  \n",
       "32558  0.0  ...  0.0  0.0  0.0  0.0  0.0  0.0  0.0  1.0  0.0  0.0  \n",
       "32559  0.0  ...  0.0  0.0  0.0  0.0  0.0  0.0  0.0  1.0  0.0  0.0  \n",
       "32560  0.0  ...  0.0  0.0  0.0  0.0  0.0  0.0  0.0  1.0  0.0  0.0  \n",
       "\n",
       "[32561 rows x 108 columns]"
      ]
     },
     "execution_count": 18,
     "metadata": {},
     "output_type": "execute_result"
    }
   ],
   "source": [
    "x= pd.DataFrame(normalized)\n",
    "x"
   ]
  },
  {
   "cell_type": "markdown",
   "metadata": {},
   "source": [
    "# Creating NN for Salary Prediction Classification problem"
   ]
  },
  {
   "cell_type": "code",
   "execution_count": 19,
   "metadata": {},
   "outputs": [],
   "source": [
    "from sklearn.model_selection import train_test_split\n",
    "train_x, test_x, train_y, test_y = train_test_split(x, y, test_size=0.1, random_state=2)"
   ]
  },
  {
   "cell_type": "code",
   "execution_count": 20,
   "metadata": {},
   "outputs": [],
   "source": [
    "# normalize all the data points and cast the labels to int64\n",
    "import tensorflow as tf\n",
    "train_x, test_x = tf.cast(train_x, tf.int64), tf.cast(test_x, tf.int64)\n",
    "train_y, test_y = tf.cast(train_y,tf.int64),tf.cast(test_y,tf.int64)"
   ]
  },
  {
   "cell_type": "code",
   "execution_count": 21,
   "metadata": {},
   "outputs": [],
   "source": [
    "salmodel = tf.keras.models.Sequential();\n",
    "salmodel.add(tf.keras.layers.Flatten())\n",
    "salmodel.add(tf.keras.layers.Dense(108,input_dim=108, activation='relu'))\n",
    "salmodel.add(tf.keras.layers.Dense(54, activation='relu'))\n",
    "salmodel.add(tf.keras.layers.Dense(1,activation='sigmoid'))\n",
    "salmodel.compile (optimizer= tf.keras.optimizers.Adam(), loss='binary_crossentropy',metrics = ['accuracy'])"
   ]
  },
  {
   "cell_type": "code",
   "execution_count": 22,
   "metadata": {},
   "outputs": [
    {
     "name": "stdout",
     "output_type": "stream",
     "text": [
      "Epoch 1/50\n",
      "3663/3663 [==============================] - 8s 2ms/step - loss: 0.3676 - accuracy: 0.8284\n",
      "Epoch 2/50\n",
      "3663/3663 [==============================] - 8s 2ms/step - loss: 0.3558 - accuracy: 0.8340\n",
      "Epoch 3/50\n",
      "3663/3663 [==============================] - 8s 2ms/step - loss: 0.3525 - accuracy: 0.8357\n",
      "Epoch 4/50\n",
      "3663/3663 [==============================] - 8s 2ms/step - loss: 0.3485 - accuracy: 0.8366\n",
      "Epoch 5/50\n",
      "3663/3663 [==============================] - 8s 2ms/step - loss: 0.3461 - accuracy: 0.8381\n",
      "Epoch 6/50\n",
      "3663/3663 [==============================] - 9s 2ms/step - loss: 0.3429 - accuracy: 0.8400\n",
      "Epoch 7/50\n",
      "3663/3663 [==============================] - 8s 2ms/step - loss: 0.3407 - accuracy: 0.8404\n",
      "Epoch 8/50\n",
      "3663/3663 [==============================] - 8s 2ms/step - loss: 0.3377 - accuracy: 0.8424\n",
      "Epoch 9/50\n",
      "3663/3663 [==============================] - 8s 2ms/step - loss: 0.3349 - accuracy: 0.8428\n",
      "Epoch 10/50\n",
      "3663/3663 [==============================] - 10s 3ms/step - loss: 0.3312 - accuracy: 0.8445\n",
      "Epoch 11/50\n",
      "3663/3663 [==============================] - 8s 2ms/step - loss: 0.3289 - accuracy: 0.8459\n",
      "Epoch 12/50\n",
      "3663/3663 [==============================] - 8s 2ms/step - loss: 0.3264 - accuracy: 0.8469\n",
      "Epoch 13/50\n",
      "3663/3663 [==============================] - 9s 2ms/step - loss: 0.3231 - accuracy: 0.8479\n",
      "Epoch 14/50\n",
      "3663/3663 [==============================] - 8s 2ms/step - loss: 0.3200 - accuracy: 0.8488\n",
      "Epoch 15/50\n",
      "3663/3663 [==============================] - 8s 2ms/step - loss: 0.3178 - accuracy: 0.8501\n",
      "Epoch 16/50\n",
      "3663/3663 [==============================] - 8s 2ms/step - loss: 0.3156 - accuracy: 0.8509\n",
      "Epoch 17/50\n",
      "3663/3663 [==============================] - 9s 2ms/step - loss: 0.3128 - accuracy: 0.8517\n",
      "Epoch 18/50\n",
      "3663/3663 [==============================] - 8s 2ms/step - loss: 0.3108 - accuracy: 0.8525\n",
      "Epoch 19/50\n",
      "3663/3663 [==============================] - 7s 2ms/step - loss: 0.3089 - accuracy: 0.8534\n",
      "Epoch 20/50\n",
      "3663/3663 [==============================] - 7s 2ms/step - loss: 0.3070 - accuracy: 0.8547\n",
      "Epoch 21/50\n",
      "3663/3663 [==============================] - 8s 2ms/step - loss: 0.3052 - accuracy: 0.8541\n",
      "Epoch 22/50\n",
      "3663/3663 [==============================] - 7s 2ms/step - loss: 0.3037 - accuracy: 0.8556\n",
      "Epoch 23/50\n",
      "3663/3663 [==============================] - 7s 2ms/step - loss: 0.3028 - accuracy: 0.8556\n",
      "Epoch 24/50\n",
      "3663/3663 [==============================] - 7s 2ms/step - loss: 0.3005 - accuracy: 0.8564\n",
      "Epoch 25/50\n",
      "3663/3663 [==============================] - 9s 3ms/step - loss: 0.3008 - accuracy: 0.8558\n",
      "Epoch 26/50\n",
      "3663/3663 [==============================] - 8s 2ms/step - loss: 0.2985 - accuracy: 0.8567\n",
      "Epoch 27/50\n",
      "3663/3663 [==============================] - 8s 2ms/step - loss: 0.2980 - accuracy: 0.8580\n",
      "Epoch 28/50\n",
      "3663/3663 [==============================] - 10s 3ms/step - loss: 0.2968 - accuracy: 0.8583\n",
      "Epoch 29/50\n",
      "3663/3663 [==============================] - 10s 3ms/step - loss: 0.2957 - accuracy: 0.8593\n",
      "Epoch 30/50\n",
      "3663/3663 [==============================] - 8s 2ms/step - loss: 0.2951 - accuracy: 0.8587\n",
      "Epoch 31/50\n",
      "3663/3663 [==============================] - 8s 2ms/step - loss: 0.2946 - accuracy: 0.8587\n",
      "Epoch 32/50\n",
      "3663/3663 [==============================] - 9s 2ms/step - loss: 0.2934 - accuracy: 0.8586\n",
      "Epoch 33/50\n",
      "3663/3663 [==============================] - 9s 3ms/step - loss: 0.2930 - accuracy: 0.8592\n",
      "Epoch 34/50\n",
      "3663/3663 [==============================] - 10s 3ms/step - loss: 0.2925 - accuracy: 0.8591\n",
      "Epoch 35/50\n",
      "3663/3663 [==============================] - 10s 3ms/step - loss: 0.2917 - accuracy: 0.8598\n",
      "Epoch 36/50\n",
      "3663/3663 [==============================] - 10s 3ms/step - loss: 0.2908 - accuracy: 0.8593\n",
      "Epoch 37/50\n",
      "3663/3663 [==============================] - 10s 3ms/step - loss: 0.2904 - accuracy: 0.8596\n",
      "Epoch 38/50\n",
      "3663/3663 [==============================] - 11s 3ms/step - loss: 0.2903 - accuracy: 0.8602\n",
      "Epoch 39/50\n",
      "3663/3663 [==============================] - 10s 3ms/step - loss: 0.2892 - accuracy: 0.8609\n",
      "Epoch 40/50\n",
      "3663/3663 [==============================] - 9s 2ms/step - loss: 0.2898 - accuracy: 0.8609\n",
      "Epoch 41/50\n",
      "3663/3663 [==============================] - 10s 3ms/step - loss: 0.2887 - accuracy: 0.8603\n",
      "Epoch 42/50\n",
      "3663/3663 [==============================] - 7s 2ms/step - loss: 0.2884 - accuracy: 0.8605\n",
      "Epoch 43/50\n",
      "3663/3663 [==============================] - 9s 2ms/step - loss: 0.2879 - accuracy: 0.8610\n",
      "Epoch 44/50\n",
      "3663/3663 [==============================] - 8s 2ms/step - loss: 0.2872 - accuracy: 0.8615\n",
      "Epoch 45/50\n",
      "3663/3663 [==============================] - 9s 2ms/step - loss: 0.2875 - accuracy: 0.8608\n",
      "Epoch 46/50\n",
      "3663/3663 [==============================] - 8s 2ms/step - loss: 0.2865 - accuracy: 0.8617\n",
      "Epoch 47/50\n",
      "3663/3663 [==============================] - 7s 2ms/step - loss: 0.2875 - accuracy: 0.8621\n",
      "Epoch 48/50\n",
      "3663/3663 [==============================] - 8s 2ms/step - loss: 0.2853 - accuracy: 0.8618\n",
      "Epoch 49/50\n",
      "3663/3663 [==============================] - 8s 2ms/step - loss: 0.2863 - accuracy: 0.8624\n",
      "Epoch 50/50\n",
      "3663/3663 [==============================] - 8s 2ms/step - loss: 0.2856 - accuracy: 0.8627\n"
     ]
    },
    {
     "data": {
      "text/plain": [
       "<tensorflow.python.keras.callbacks.History at 0x275b41fd5f8>"
      ]
     },
     "execution_count": 22,
     "metadata": {},
     "output_type": "execute_result"
    }
   ],
   "source": [
    "salmodel.fit(train_x, train_y, batch_size=8, epochs=50)"
   ]
  },
  {
   "cell_type": "code",
   "execution_count": 23,
   "metadata": {},
   "outputs": [
    {
     "name": "stdout",
     "output_type": "stream",
     "text": [
      "102/102 [==============================] - 0s 2ms/step - loss: 0.7517 - accuracy: 0.8207\n"
     ]
    },
    {
     "data": {
      "text/plain": [
       "[0.7517264485359192, 0.8206939101219177]"
      ]
     },
     "execution_count": 23,
     "metadata": {},
     "output_type": "execute_result"
    }
   ],
   "source": [
    "salmodel.evaluate(test_x, test_y)"
   ]
  },
  {
   "cell_type": "code",
   "execution_count": 24,
   "metadata": {},
   "outputs": [],
   "source": [
    "predict = salmodel.predict(test_x)"
   ]
  },
  {
   "cell_type": "code",
   "execution_count": 25,
   "metadata": {},
   "outputs": [],
   "source": [
    "y_pred =[]\n",
    "for i in range(len(predict)):\n",
    "    y_pred.append(np.where(predict[i]>0.5,1,0))\n"
   ]
  },
  {
   "cell_type": "code",
   "execution_count": 26,
   "metadata": {},
   "outputs": [],
   "source": [
    "results= pd.DataFrame(y_pred,columns=['result'])"
   ]
  },
  {
   "cell_type": "code",
   "execution_count": 27,
   "metadata": {},
   "outputs": [
    {
     "name": "stdout",
     "output_type": "stream",
     "text": [
      "              precision    recall  f1-score   support\n",
      "\n",
      "           0       0.85      0.93      0.89      2444\n",
      "           1       0.70      0.49      0.58       813\n",
      "\n",
      "    accuracy                           0.82      3257\n",
      "   macro avg       0.77      0.71      0.73      3257\n",
      "weighted avg       0.81      0.82      0.81      3257\n",
      "\n"
     ]
    }
   ],
   "source": [
    "#classification report\n",
    "from sklearn.metrics import classification_report\n",
    "print(classification_report(test_y,results))"
   ]
  },
  {
   "cell_type": "code",
   "execution_count": 28,
   "metadata": {},
   "outputs": [
    {
     "name": "stdout",
     "output_type": "stream",
     "text": [
      "[[2274  170]\n",
      " [ 414  399]]\n"
     ]
    }
   ],
   "source": [
    "#confusion matrix\n",
    "from sklearn.metrics import confusion_matrix\n",
    "cm= confusion_matrix(test_y, results)\n",
    "print(cm)"
   ]
  },
  {
   "cell_type": "code",
   "execution_count": 29,
   "metadata": {},
   "outputs": [
    {
     "data": {
      "text/plain": [
       "Text(69.0, 0.5, 'Truth')"
      ]
     },
     "execution_count": 29,
     "metadata": {},
     "output_type": "execute_result"
    },
    {
     "data": {
      "image/png": "[encoded data removed]",
      "text/plain": [
       "<Figure size 720x504 with 2 Axes>"
      ]
     },
     "metadata": {
      "needs_background": "light"
     },
     "output_type": "display_data"
    }
   ],
   "source": [
    "import seaborn as sn\n",
    "plt.figure(figsize=(10,7))\n",
    "sn.heatmap(cm, annot=True)\n",
    "plt.xlabel('Predicted')\n",
    "plt.ylabel('Truth')"
   ]
  },
  {
   "cell_type": "code",
   "execution_count": 30,
   "metadata": {},
   "outputs": [],
   "source": [
    "salmodel.save(\"salmodel2.h5\")"
   ]
  },
  {
   "cell_type": "code",
   "execution_count": null,
   "metadata": {},
   "outputs": [],
   "source": []
  }
 ],
 "metadata": {
  "kernelspec": {
   "display_name": "Python 3",
   "language": "python",
   "name": "python3"
  },
  "language_info": {
   "codemirror_mode": {
    "name": "ipython",
    "version": 3
   },
   "file_extension": ".py",
   "mimetype": "text/x-python",
   "name": "python",
   "nbconvert_exporter": "python",
   "pygments_lexer": "ipython3",
   "version": "3.6.9"
  }
 },
 "nbformat": 4,
 "nbformat_minor": 4
}
