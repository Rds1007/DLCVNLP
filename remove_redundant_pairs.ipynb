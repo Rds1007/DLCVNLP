{
  "nbformat": 4,
  "nbformat_minor": 0,
  "metadata": {
    "colab": {
      "provenance": [],
      "name": "remove_redundant_pairs",
      "authorship_tag": "ABX9TyPtvN6EaKysbXDbLwkupP0s",
      "include_colab_link": true
    },
    "kernelspec": {
      "name": "python3",
      "display_name": "Python 3"
    },
    "language_info": {
      "name": "python"
    }
  },
  "cells": [
    {
      "cell_type": "markdown",
      "metadata": {
        "id": "view-in-github",
        "colab_type": "text"
      },
      "source": [
        "<a href=\"https://colab.research.google.com/github/Rds1007/DLCVNLP/blob/master/remove_redundant_pairs.ipynb\" target=\"_parent\"><img src=\"https://colab.research.google.com/assets/colab-badge.svg\" alt=\"Open In Colab\"/></a>"
      ]
    },
    {
      "cell_type": "code",
      "execution_count": null,
      "metadata": {
        "id": "DmDcmDNiVafE"
      },
      "outputs": [],
      "source": [
        "from pyspark.sql import SparkSession\n",
        "from pyspark.sql.types import StructType, StructField, StringType, DateType, IntegerType\n",
        "from datetime import datetime\n",
        "from pyspark.sql.functions import sequence, explode, lit, to_date,col\n",
        "from pyspark.sql.functions import min as min_, max as max_\n",
        "spark = SparkSession.builder.appName(\"TimeSeriesGapFill\").getOrCreate()\n",
        "\n",
        "\n",
        "data = [\n",
        "    ('apple', 'samsung', 2020, 1, 2, 1, 2),\n",
        "    ('samsung', 'apple', 2020, 1, 2, 1, 2),\n",
        "    ('apple', 'samsung', 2021, 1, 2, 5, 3),\n",
        "    ('samsung', 'apple', 2021, 5, 3, 1, 2),\n",
        "    ('google', None, 2020, 5, 9, None, None),\n",
        "    ('oneplus', 'nothing', 2020, 5, 9, 6, 3)\n",
        "]\n",
        "schema = 'brand1 string , brand2 string , year int , custom1 int, custom2 int , custom3 int , custom4 int'\n",
        "\n",
        "df = spark.createDataFrame(data = data , schema = schema)\n"
      ]
    },
    {
      "cell_type": "code",
      "source": [
        "from pyspark.sql.functions import when ,concat\n",
        "from pyspark.sql.window import Window\n",
        "from pyspark.sql.functions import row_number\n",
        "df3=df.withColumn(\"pair_id\", when(col(\"brand1\") < col(\"brand2\"), concat(\"brand1\",\"brand2\",\"year\")).otherwise(concat(\"brand2\",\"brand1\",\"year\")))\n",
        "\n",
        "WindowSpec = Window.partitionBy(\"pair_id\").orderBy(\"pair_id\")\n",
        "df3=df3.withColumn(\"row_num\",row_number().over(WindowSpec))\n",
        "df3.show()"
      ],
      "metadata": {
        "colab": {
          "base_uri": "https://localhost:8080/"
        },
        "id": "SXbuPTjNXXeG",
        "outputId": "58e884a6-b7d6-4928-cb7f-d96768dc47ed"
      },
      "execution_count": null,
      "outputs": [
        {
          "output_type": "stream",
          "name": "stdout",
          "text": [
            "+-------+-------+----+-------+-------+-------+-------+------------------+-------+\n",
            "| brand1| brand2|year|custom1|custom2|custom3|custom4|           pair_id|row_num|\n",
            "+-------+-------+----+-------+-------+-------+-------+------------------+-------+\n",
            "| google|   NULL|2020|      5|      9|   NULL|   NULL|              NULL|      1|\n",
            "|  apple|samsung|2020|      1|      2|      1|      2|  applesamsung2020|      1|\n",
            "|samsung|  apple|2020|      1|      2|      1|      2|  applesamsung2020|      2|\n",
            "|  apple|samsung|2021|      1|      2|      5|      3|  applesamsung2021|      1|\n",
            "|samsung|  apple|2021|      5|      3|      1|      2|  applesamsung2021|      2|\n",
            "|oneplus|nothing|2020|      5|      9|      6|      3|nothingoneplus2020|      1|\n",
            "+-------+-------+----+-------+-------+-------+-------+------------------+-------+\n",
            "\n"
          ]
        }
      ]
    },
    {
      "cell_type": "code",
      "source": [
        "\n",
        "df3.filter((col(\"row_num\") == 1) | ((col(\"custom1\")!=col(\"custom3\")) | (col(\"custom2\")!=col(\"custom4\")))).show()\n"
      ],
      "metadata": {
        "colab": {
          "base_uri": "https://localhost:8080/"
        },
        "id": "j1Rta9ZGXfZm",
        "outputId": "c49eb53f-96ff-4188-b99d-bccb54d72599"
      },
      "execution_count": null,
      "outputs": [
        {
          "output_type": "stream",
          "name": "stdout",
          "text": [
            "+-------+-------+----+-------+-------+-------+-------+------------------+-------+\n",
            "| brand1| brand2|year|custom1|custom2|custom3|custom4|           pair_id|row_num|\n",
            "+-------+-------+----+-------+-------+-------+-------+------------------+-------+\n",
            "| google|   NULL|2020|      5|      9|   NULL|   NULL|              NULL|      1|\n",
            "|  apple|samsung|2020|      1|      2|      1|      2|  applesamsung2020|      1|\n",
            "|  apple|samsung|2021|      1|      2|      5|      3|  applesamsung2021|      1|\n",
            "|samsung|  apple|2021|      5|      3|      1|      2|  applesamsung2021|      2|\n",
            "|oneplus|nothing|2020|      5|      9|      6|      3|nothingoneplus2020|      1|\n",
            "+-------+-------+----+-------+-------+-------+-------+------------------+-------+\n",
            "\n"
          ]
        }
      ]
    }
  ]
}