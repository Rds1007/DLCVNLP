{
 "cells": [
  {
   "cell_type": "code",
   "execution_count": null,
   "metadata": {
    "id": "jL-xAdKkIl6H"
   },
   "outputs": [],
   "source": [
    "## Cat Horse classification by using AlexNet Network\n",
    "\n",
    "from keras.models import Sequential\n",
    "from keras.layers import Conv2D\n",
    "from keras.layers import MaxPooling2D\n",
    "from keras.layers import Flatten,Activation, Dropout\n",
    "from keras.layers import Dense\n",
    "from  matplotlib import pyplot as plt\n",
    "import numpy as np\n",
    "from keras.layers.normalization import BatchNormalization\n",
    "\n",
    "# Initialising the CNN\n",
    "classifier = Sequential()\n",
    "\n",
    "# Step 1 - Convolution\n",
    "classifier.add(Conv2D(96, (11, 11), input_shape = (224, 224, 3),strides=(4,4), padding='valid', activation = 'relu'))\n",
    "\n",
    "# Step 2 - Pooling\n",
    "classifier.add(MaxPooling2D(pool_size = (2, 2),strides=(2,2), padding='valid'))\n",
    "\n",
    "# Batch Normalisation before passing it to the next layer\n",
    "classifier.add(BatchNormalization())\n",
    "\n",
    "# Adding a second convolutional layer\n",
    "classifier.add(Conv2D(256, kernel_size=(11,11),strides=(1,1), padding='valid',activation='relu'))\n",
    "\n",
    "classifier.add(MaxPooling2D(pool_size=(2, 2),strides=(2,2), padding='valid'))\n",
    "\n",
    "# Batch Normalisation\n",
    "classifier.add(BatchNormalization())\n",
    "\n",
    "# 3rd Convolutional Layer\n",
    "classifier.add(Conv2D(filters=384, kernel_size=(3,3), strides=(1,1), padding='valid'))\n",
    "classifier.add(Activation('relu'))\n",
    "# Batch Normalisation\n",
    "classifier.add(BatchNormalization())\n",
    "\n",
    "# 4th Convolutional Layer\n",
    "classifier.add(Conv2D(filters=384, kernel_size=(3,3), strides=(1,1), padding='valid'))\n",
    "classifier.add(Activation('relu'))\n",
    "# Batch Normalisation\n",
    "classifier.add(BatchNormalization())\n",
    "\n",
    "# 5th Convolutional Layer\n",
    "classifier.add(Conv2D(filters=256, kernel_size=(3,3), strides=(1,1), padding='valid'))\n",
    "classifier.add(Activation('relu'))\n",
    "# Pooling\n",
    "classifier.add(MaxPooling2D(pool_size=(2,2), strides=(2,2), padding='valid'))\n",
    "# Batch Normalisation\n",
    "classifier.add(BatchNormalization())\n",
    "\n",
    "# Dense Layer passing it to Dense Layer - Flattening\n",
    "classifier.add(Flatten())\n",
    "\n",
    "# Step 4 - Full connection\n",
    "classifier.add(Dense(units = 4096,input_shape=(224*224*3,), activation = 'relu'))\n",
    "# Add Dropout to prevent overfitting\n",
    "classifier.add(Dropout(0.4))\n",
    "# Batch Normalisation\n",
    "classifier.add(BatchNormalization())\n",
    "\n",
    "\n",
    "classifier.add(Dense(4096, activation='relu'))\n",
    "# Add Dropout\n",
    "classifier.add(Dropout(0.4))\n",
    "# Batch Normalisation\n",
    "classifier.add(BatchNormalization())\n",
    "\n",
    "\n",
    "# 3rd Dense Layer\n",
    "classifier.add(Dense(1000))\n",
    "classifier.add(Activation('relu'))\n",
    "# Add Dropout\n",
    "classifier.add(Dropout(0.4))\n",
    "# Batch Normalisation\n",
    "classifier.add(BatchNormalization())\n",
    "\n",
    "\n",
    "classifier.add(Dense(units = 2, activation = 'softmax'))\n",
    "\n",
    "\n",
    "classifier.summary()\n",
    "\n",
    "\n",
    "# Compiling the CNN\n",
    "classifier.compile(optimizer = 'adam', loss = 'sparse_categorical_crossentropy', metrics = ['accuracy'])\n",
    "\n",
    "# Part 2 - Fitting the CNN to the images\n",
    "\n",
    "from keras.preprocessing.image import ImageDataGenerator\n",
    "\n",
    "train_datagen = ImageDataGenerator(rescale = 1./255)\n",
    "test_datagen = ImageDataGenerator(rescale = 1./255)\n",
    "\n",
    "training_set = train_datagen.flow_from_directory(r'/content/drive/My Drive/biclass/2class',\n",
    "                                                 target_size = (224, 224),\n",
    "                                                 batch_size = 32,\n",
    "                                                 class_mode = 'binary')\n",
    "\n",
    "test_set = test_datagen.flow_from_directory(r'/content/drive/My Drive/biclass/2class',\n",
    "                                            target_size = (224, 224),\n",
    "                                            batch_size = 32,\n",
    "                                            class_mode = 'binary')\n",
    "\n",
    "model = classifier.fit_generator(training_set,\n",
    "                         steps_per_epoch = 100,\n",
    "                         epochs = 20,\n",
    "                         validation_data = test_set,\n",
    "                         verbose=1,\n",
    "                         validation_steps = 75)\n",
    "\n",
    "classifier.save(\"/content/drive/My Drive/biclass/multi_model_lenet_2.h5\")\n",
    "print(\"Saved model to disk\")"
   ]
  },
  {
   "cell_type": "code",
   "execution_count": 25,
   "metadata": {
    "id": "BJ65UgMmlpfd"
   },
   "outputs": [],
   "source": [
    "import numpy as np\n",
    "from keras.preprocessing import image\n",
    "from keras.models import load_model\n",
    "from  matplotlib import pyplot as plt\n",
    "import pandas as pd\n",
    "import os\n",
    "listing =[]\n",
    "classes = ['cat','horse']\n",
    "model = load_model('/content/drive/My Drive/biclass/multi_model_lenet_2.h5')\n",
    "for cls in classes:\n",
    "  for count, filename in enumerate(os.listdir(\"/content/drive/My Drive/biclass/2class/\"+cls)):\n",
    "    test_image = image.load_img(r'/content/drive/My Drive/biclass/2class/'+cls+'/'+filename, target_size = (224,224))\n",
    "    #plt.imshow(test_image,cmap='gray')\n",
    "    test_image = image.img_to_array(test_image)\n",
    "    test_image = np.expand_dims(test_image, axis = 0)\n",
    "    result = model.predict_proba(test_image)\n",
    "    result\n",
    "    rslt = np.where(result == np.amax(result))\n",
    "    index_values =  list(zip(rslt[0],rslt[1]))\n",
    "    #print('Coordinates are ',rslt[1][0])\n",
    "    if rslt[1][0] == 0 :\n",
    "      prediction = 'cat'\n",
    "      #print(prediction)\n",
    "    elif rslt[1][0] == 1 :\n",
    "      prediction = 'horse'\n",
    "      #print(prediction)\n",
    "    else :\n",
    "      print('None')\n",
    "    listing.append((cls,prediction))\n",
    "  \n",
    "x=pd.DataFrame(listing, columns=('Actual', 'Predicted'))\n",
    "  "
   ]
  },
  {
   "cell_type": "code",
   "execution_count": 31,
   "metadata": {
    "colab": {
     "base_uri": "https://localhost:8080/",
     "height": 1000
    },
    "id": "5nemlokFJmFr",
    "outputId": "92fc779c-6e92-4a25-86be-bd3336c2f587"
   },
   "outputs": [
    {
     "name": "stdout",
     "output_type": "stream",
     "text": [
      "Model: \"sequential_1\"\n",
      "_________________________________________________________________\n",
      "Layer (type)                 Output Shape              Param #   \n",
      "=================================================================\n",
      "conv2d_1 (Conv2D)            (None, 54, 54, 96)        34944     \n",
      "_________________________________________________________________\n",
      "max_pooling2d_1 (MaxPooling2 (None, 27, 27, 96)        0         \n",
      "_________________________________________________________________\n",
      "batch_normalization_1 (Batch (None, 27, 27, 96)        384       \n",
      "_________________________________________________________________\n",
      "conv2d_2 (Conv2D)            (None, 17, 17, 256)       2973952   \n",
      "_________________________________________________________________\n",
      "max_pooling2d_2 (MaxPooling2 (None, 8, 8, 256)         0         \n",
      "_________________________________________________________________\n",
      "batch_normalization_2 (Batch (None, 8, 8, 256)         1024      \n",
      "_________________________________________________________________\n",
      "conv2d_3 (Conv2D)            (None, 6, 6, 384)         885120    \n",
      "_________________________________________________________________\n",
      "activation_1 (Activation)    (None, 6, 6, 384)         0         \n",
      "_________________________________________________________________\n",
      "batch_normalization_3 (Batch (None, 6, 6, 384)         1536      \n",
      "_________________________________________________________________\n",
      "conv2d_4 (Conv2D)            (None, 4, 4, 384)         1327488   \n",
      "_________________________________________________________________\n",
      "activation_2 (Activation)    (None, 4, 4, 384)         0         \n",
      "_________________________________________________________________\n",
      "batch_normalization_4 (Batch (None, 4, 4, 384)         1536      \n",
      "_________________________________________________________________\n",
      "conv2d_5 (Conv2D)            (None, 2, 2, 256)         884992    \n",
      "_________________________________________________________________\n",
      "activation_3 (Activation)    (None, 2, 2, 256)         0         \n",
      "_________________________________________________________________\n",
      "max_pooling2d_3 (MaxPooling2 (None, 1, 1, 256)         0         \n",
      "_________________________________________________________________\n",
      "batch_normalization_5 (Batch (None, 1, 1, 256)         1024      \n",
      "_________________________________________________________________\n",
      "flatten_1 (Flatten)          (None, 256)               0         \n",
      "_________________________________________________________________\n",
      "dense_1 (Dense)              (None, 4096)              1052672   \n",
      "_________________________________________________________________\n",
      "dropout_1 (Dropout)          (None, 4096)              0         \n",
      "_________________________________________________________________\n",
      "batch_normalization_6 (Batch (None, 4096)              16384     \n",
      "_________________________________________________________________\n",
      "dense_2 (Dense)              (None, 4096)              16781312  \n",
      "_________________________________________________________________\n",
      "dropout_2 (Dropout)          (None, 4096)              0         \n",
      "_________________________________________________________________\n",
      "batch_normalization_7 (Batch (None, 4096)              16384     \n",
      "_________________________________________________________________\n",
      "dense_3 (Dense)              (None, 1000)              4097000   \n",
      "_________________________________________________________________\n",
      "activation_4 (Activation)    (None, 1000)              0         \n",
      "_________________________________________________________________\n",
      "dropout_3 (Dropout)          (None, 1000)              0         \n",
      "_________________________________________________________________\n",
      "batch_normalization_8 (Batch (None, 1000)              4000      \n",
      "_________________________________________________________________\n",
      "dense_4 (Dense)              (None, 2)                 2002      \n",
      "=================================================================\n",
      "Total params: 28,081,754\n",
      "Trainable params: 28,060,618\n",
      "Non-trainable params: 21,136\n",
      "_________________________________________________________________\n"
     ]
    }
   ],
   "source": [
    "model.summary()"
   ]
  },
  {
   "cell_type": "code",
   "execution_count": 34,
   "metadata": {
    "colab": {
     "base_uri": "https://localhost:8080/",
     "height": 334
    },
    "id": "ax6wvxtb_bDX",
    "outputId": "f83fb0eb-a072-4bfb-d859-c6f8a410bd14"
   },
   "outputs": [
    {
     "name": "stdout",
     "output_type": "stream",
     "text": [
      "[[180  25]\n",
      " [ 95 108]]\n"
     ]
    },
    {
     "data": {
      "text/plain": [
       "Text(33.0, 0.5, 'Predicted')"
      ]
     },
     "execution_count": 34,
     "metadata": {
      "tags": []
     },
     "output_type": "execute_result"
    },
    {
     "data": {
      "image/png": "[encoded data removed]",
      "text/plain": [
       "<Figure size 432x288 with 2 Axes>"
      ]
     },
     "metadata": {
      "needs_background": "light",
      "tags": []
     },
     "output_type": "display_data"
    }
   ],
   "source": [
    "# Example of a confusion matrix in Python\n",
    "from sklearn.metrics import confusion_matrix\n",
    "from sklearn import preprocessing\n",
    "import seaborn as sns\n",
    "import matplotlib.pyplot as plt\n",
    "le= preprocessing.LabelEncoder()\n",
    "\n",
    "x['Actual']=le.fit_transform(x['Actual'])\n",
    "x['Predicted']=le.fit_transform(x['Predicted'])\n",
    "\n",
    "results = confusion_matrix(x['Actual'], x['Predicted'])\n",
    "print(results)\n",
    "\n",
    "plt.figure()\n",
    "sns.heatmap(results, annot=True)\n",
    "plt.xlabel('Actual')\n",
    "plt.ylabel('Predicted')"
   ]
  },
  {
   "cell_type": "code",
   "execution_count": 33,
   "metadata": {
    "colab": {
     "base_uri": "https://localhost:8080/",
     "height": 173
    },
    "id": "dr6EaKpp_5RZ",
    "outputId": "de963a91-ef32-4a0b-f8e5-dace6f2e4c6b"
   },
   "outputs": [
    {
     "name": "stdout",
     "output_type": "stream",
     "text": [
      "              precision    recall  f1-score   support\n",
      "\n",
      "           0       0.65      0.88      0.75       205\n",
      "           1       0.81      0.53      0.64       203\n",
      "\n",
      "    accuracy                           0.71       408\n",
      "   macro avg       0.73      0.71      0.70       408\n",
      "weighted avg       0.73      0.71      0.70       408\n",
      "\n"
     ]
    }
   ],
   "source": [
    "from sklearn.metrics import classification_report\n",
    "print(classification_report(x['Actual'],x['Predicted']))"
   ]
  }
 ],
 "metadata": {
  "colab": {
   "name": "cat_horse_classification_alex_net",
   "provenance": []
  },
  "kernelspec": {
   "display_name": "Python 3",
   "language": "python",
   "name": "python3"
  },
  "language_info": {
   "codemirror_mode": {
    "name": "ipython",
    "version": 3
   },
   "file_extension": ".py",
   "mimetype": "text/x-python",
   "name": "python",
   "nbconvert_exporter": "python",
   "pygments_lexer": "ipython3",
   "version": "3.7.4"
  }
 },
 "nbformat": 4,
 "nbformat_minor": 1
}
