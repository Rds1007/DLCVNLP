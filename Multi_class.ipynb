{
  "nbformat": 4,
  "nbformat_minor": 0,
  "metadata": {
    "colab": {
      "name": "Multi_class.ipynb",
      "provenance": [],
      "mount_file_id": "1iDZ3kPdhlw2pZxowzZkRn0X4jnbs2rFY",
      "authorship_tag": "ABX9TyMwCtJAOI67TnUcZ/RUwGlB",
      "include_colab_link": true
    },
    "kernelspec": {
      "name": "python3",
      "display_name": "Python 3"
    },
    "accelerator": "GPU"
  },
  "cells": [
    {
      "cell_type": "markdown",
      "metadata": {
        "id": "view-in-github",
        "colab_type": "text"
      },
      "source": [
        "<a href=\"https://colab.research.google.com/github/Rds1007/DLCVNLP/blob/master/Multi_class.ipynb\" target=\"_parent\"><img src=\"https://colab.research.google.com/assets/colab-badge.svg\" alt=\"Open In Colab\"/></a>"
      ]
    },
    {
      "cell_type": "code",
      "metadata": {
        "id": "3ihUZxJqdIQB",
        "colab_type": "code",
        "colab": {
          "base_uri": "https://localhost:8080/",
          "height": 138
        },
        "outputId": "7a96d366-1928-4d6d-f2f8-9ad515c7a6c6"
      },
      "source": [
        "from keras.models import Sequential\n",
        "from keras.layers import Conv2D\n",
        "from keras.layers import MaxPooling2D\n",
        "from keras.layers import Flatten\n",
        "from keras.layers import Dense\n",
        "\n",
        "# Initialising the CNN\n",
        "classifier = Sequential()\n",
        "\n",
        "# Step 1 - Convolution\n",
        "classifier.add(Conv2D(32, (3, 3), input_shape = (64, 64, 3), activation = 'relu'))\n",
        "\n",
        "# Step 2 - Pooling\n",
        "classifier.add(MaxPooling2D(pool_size = (2, 2)))\n",
        "\n",
        "# Adding a second convolutional layer\n",
        "\n",
        "# Step 3 - Flattening\n",
        "classifier.add(Flatten())\n",
        "\n",
        "# Step 4 - Full connection\n",
        "classifier.add(Dense(units = 128, activation = 'relu'))\n",
        "\n",
        "classifier.add(Dense(units = 5, activation = 'softmax'))\n",
        "\n",
        "# Compiling the CNN\n",
        "classifier.compile(optimizer = 'adam', loss = 'categorical_crossentropy', metrics = ['accuracy'])\n",
        "\n",
        "# Part 2 - Fitting the CNN to the images\n",
        "\n",
        "from keras.preprocessing.image import ImageDataGenerator\n",
        "\n",
        "train_datagen = ImageDataGenerator(rescale = 1./255)\n",
        "test_datagen = ImageDataGenerator(rescale = 1./255)\n",
        "\n",
        "training_set = train_datagen.flow_from_directory(r'/content/drive/My Drive/Multiclass_cnn/Multi',\n",
        "                                                 target_size = (64, 64),\n",
        "                                                 batch_size = 32,\n",
        "                                                 class_mode = 'categorical')\n",
        "\n",
        "test_set = test_datagen.flow_from_directory(r'/content/drive/My Drive/Multiclass_cnn/Multi',\n",
        "                                            target_size = (64, 64),\n",
        "                                            batch_size = 32,\n",
        "                                            class_mode = 'categorical')\n",
        "\n",
        "model = classifier.fit_generator(training_set,\n",
        "                         steps_per_epoch = 100,\n",
        "                         epochs = 2,\n",
        "                         validation_data = test_set,    \n",
        "                         validation_steps = 75)\n",
        "\n",
        "classifier.save(\"multi_model.h5\")\n",
        "print(\"Saved model to disk\")\n",
        "\n",
        "\n",
        "\n",
        "\n",
        "\n",
        "\n"
      ],
      "execution_count": 4,
      "outputs": [
        {
          "output_type": "stream",
          "text": [
            "Found 223 images belonging to 5 classes.\n",
            "Found 223 images belonging to 5 classes.\n",
            "Epoch 1/2\n",
            "100/100 [==============================] - 687s 7s/step - loss: 0.4103 - accuracy: 0.8750 - val_loss: 0.0061 - val_accuracy: 0.9912\n",
            "Epoch 2/2\n",
            "100/100 [==============================] - 670s 7s/step - loss: 0.0305 - accuracy: 0.9871 - val_loss: 0.0296 - val_accuracy: 0.9912\n",
            "Saved model to disk\n"
          ],
          "name": "stdout"
        }
      ]
    },
    {
      "cell_type": "code",
      "metadata": {
        "id": "KK3oVChxlwWb",
        "colab_type": "code",
        "colab": {}
      },
      "source": [
        "\n",
        "\n",
        "classifier.save(r\"/content/drive/My Drive/Multiclass_cnn/multi_model.h5\")"
      ],
      "execution_count": 6,
      "outputs": []
    }
  ]
}